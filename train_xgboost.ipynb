{
 "cells": [
  {
   "cell_type": "markdown",
   "metadata": {},
   "source": [
    "## Load preprocessed train and test datasets"
   ]
  },
  {
   "cell_type": "code",
   "execution_count": 7,
   "metadata": {},
   "outputs": [],
   "source": [
    "from datetime import date\n",
    "import pickle\n",
    "import math\n",
    "import numpy as np\n",
    "import xgboost as xgb\n",
    "from sklearn.model_selection import KFold\n",
    "from sklearn.model_selection import StratifiedKFold\n",
    "from sklearn.model_selection import GridSearchCV\n",
    "import pandas as pd\n",
    "from sklearn.metrics import mean_absolute_error\n",
    "\n",
    "\n",
    "#rng = np.random.RandomState(31337)\n",
    "\n",
    "train = pickle.load(open(\"/codilime/data/train_processed_3.0.0_2017-07-07.p\", \"rb\"))\n",
    "test = pickle.load(open(\"/codilime/data/test_processed_2.0.0_05062017.p\", \"rb\"))\n",
    "train[\"y\"][:12]\n",
    "\n",
    "\n",
    "X = np.array(train[\"X\"])\n",
    "y = np.array(train[\"y\"])"
   ]
  },
  {
   "cell_type": "markdown",
   "metadata": {
    "collapsed": true
   },
   "source": [
    "## Split train dataset into training and testing cross validation."
   ]
  },
  {
   "cell_type": "code",
   "execution_count": 8,
   "metadata": {},
   "outputs": [
    {
     "name": "stdout",
     "output_type": "stream",
     "text": [
      "KFold(n_splits=5, random_state=None, shuffle=True)\n"
     ]
    }
   ],
   "source": [
    "kf = KFold(n_splits=5, shuffle=True)\n",
    "kf.get_n_splits(X)\n",
    "print(kf)"
   ]
  },
  {
   "cell_type": "code",
   "execution_count": 9,
   "metadata": {},
   "outputs": [
    {
     "name": "stdout",
     "output_type": "stream",
     "text": [
      "TRAIN: [    1     2     3 ..., 10882 10884 10885] TEST: [    0     4     9 ..., 10873 10876 10883]\n",
      "0.305189827872\n",
      "TRAIN: [    0     1     3 ..., 10881 10883 10885] TEST: [    2    14    17 ..., 10879 10882 10884]\n",
      "0.314064299285\n",
      "TRAIN: [    0     1     2 ..., 10883 10884 10885] TEST: [    8    16    34 ..., 10857 10866 10875]\n",
      "0.322290898788\n",
      "TRAIN: [    0     1     2 ..., 10883 10884 10885] TEST: [    3     6     7 ..., 10868 10878 10880]\n",
      "0.303604978121\n",
      "TRAIN: [    0     2     3 ..., 10882 10883 10884] TEST: [    1     5    11 ..., 10872 10881 10885]\n",
      "0.318672654377\n",
      "Mean absolute error:  0.312764531689\n"
     ]
    }
   ],
   "source": [
    "errors = []\n",
    "\n",
    "for train_index, test_index in kf.split(X):\n",
    "    print(\"TRAIN:\", train_index, \"TEST:\", test_index)\n",
    "    X_train, X_test = X[train_index], X[test_index]\n",
    "    y_train, y_test = y[train_index], y[test_index]\n",
    "    \n",
    "    xgb_model = xgb.XGBRegressor().fit(X_train, y_train)\n",
    "    predictions = xgb_model.predict(X_test)\n",
    "    print(mean_absolute_error(y_test, predictions))\n",
    "    errors.append(mean_absolute_error(y_test, predictions))\n",
    "    \n",
    "print(\"Mean absolute error: \" ,np.mean(errors))"
   ]
  },
  {
   "cell_type": "markdown",
   "metadata": {},
   "source": [
    "## Fine tune optimum number of estimators"
   ]
  },
  {
   "cell_type": "code",
   "execution_count": 10,
   "metadata": {},
   "outputs": [
    {
     "name": "stdout",
     "output_type": "stream",
     "text": [
      "Fitting 10 folds for each of 7 candidates, totalling 70 fits\n"
     ]
    },
    {
     "name": "stderr",
     "output_type": "stream",
     "text": [
      "/usr/local/lib/python3.5/dist-packages/sklearn/model_selection/_split.py:581: Warning: The least populated class in y has only 1 members, which is too few. The minimum number of groups for any class cannot be less than n_splits=10.\n",
      "  % (min_groups, self.n_splits)), Warning)\n",
      "[Parallel(n_jobs=1)]: Done  70 out of  70 | elapsed:  1.5min finished\n"
     ]
    },
    {
     "name": "stdout",
     "output_type": "stream",
     "text": [
      "Best: 0.947566 using {'n_estimators': 200}\n"
     ]
    }
   ],
   "source": [
    "ind_params = {\"max_depth\": 7, \"gamma\": 0, \"min_child_weight\": 1}\n",
    "\n",
    "# grid search\n",
    "model = xgb.XGBRegressor(**ind_params)\n",
    "n_estimators = range(50, 400, 50)\n",
    "param_grid = dict(n_estimators=n_estimators)\n",
    "kfold = StratifiedKFold(n_splits=10, shuffle=True, random_state=7)\n",
    "grid_search = GridSearchCV(model, param_grid, cv=kfold, verbose=1)\n",
    "result = grid_search.fit(X, y)\n",
    "print(\"Best: %f using %s\" % (result.best_score_, result.best_params_))"
   ]
  },
  {
   "cell_type": "markdown",
   "metadata": {},
   "source": [
    "## Fine tune optimum min_child_weight and max_depth"
   ]
  },
  {
   "cell_type": "code",
   "execution_count": 11,
   "metadata": {},
   "outputs": [
    {
     "name": "stdout",
     "output_type": "stream",
     "text": [
      "Fitting 10 folds for each of 12 candidates, totalling 120 fits\n"
     ]
    },
    {
     "name": "stderr",
     "output_type": "stream",
     "text": [
      "/usr/local/lib/python3.5/dist-packages/sklearn/model_selection/_split.py:581: Warning: The least populated class in y has only 1 members, which is too few. The minimum number of groups for any class cannot be less than n_splits=10.\n",
      "  % (min_groups, self.n_splits)), Warning)\n",
      "[Parallel(n_jobs=1)]: Done 120 out of 120 | elapsed:   52.7s finished\n"
     ]
    },
    {
     "name": "stdout",
     "output_type": "stream",
     "text": [
      "Best: 0.947290 using {'max_depth': 7, 'min_child_weight': 5}\n"
     ]
    }
   ],
   "source": [
    "ind_params = {\"gamma\": 0}\n",
    "\n",
    "# grid search\n",
    "model = xgb.XGBRegressor(**ind_params)\n",
    "min_child_weight = range(1,6,2)\n",
    "max_depth = range(3,10,2)\n",
    "param_grid = dict(min_child_weight=min_child_weight, max_depth=max_depth)\n",
    "kfold = StratifiedKFold(n_splits=10, shuffle=True, random_state=7)\n",
    "grid_search = GridSearchCV(model, param_grid, cv=kfold, verbose=1)\n",
    "result = grid_search.fit(X, y)\n",
    "print(\"Best: %f using %s\" % (result.best_score_, result.best_params_))"
   ]
  },
  {
   "cell_type": "markdown",
   "metadata": {},
   "source": [
    "## Fine tune gamma parameter"
   ]
  },
  {
   "cell_type": "code",
   "execution_count": 12,
   "metadata": {},
   "outputs": [
    {
     "name": "stdout",
     "output_type": "stream",
     "text": [
      "Fitting 10 folds for each of 5 candidates, totalling 50 fits\n"
     ]
    },
    {
     "name": "stderr",
     "output_type": "stream",
     "text": [
      "/usr/local/lib/python3.5/dist-packages/sklearn/model_selection/_split.py:581: Warning: The least populated class in y has only 1 members, which is too few. The minimum number of groups for any class cannot be less than n_splits=10.\n",
      "  % (min_groups, self.n_splits)), Warning)\n",
      "[Parallel(n_jobs=1)]: Done  50 out of  50 | elapsed:   54.1s finished\n"
     ]
    },
    {
     "name": "stdout",
     "output_type": "stream",
     "text": [
      "Best: 0.947566 using {'gamma': 0.0}\n"
     ]
    }
   ],
   "source": [
    "ind_params = {\"max_depth\": 7, \"n_estimators\": 200, \"min_child_weight\": 1}\n",
    "\n",
    "[i/10.0 for i in range(0,5)]\n",
    "\n",
    "# grid search\n",
    "model = xgb.XGBRegressor(**ind_params)\n",
    "gamma = [i/10.0 for i in range(0,5)]\n",
    "param_grid = dict(gamma=gamma)\n",
    "kfold = StratifiedKFold(n_splits=10, shuffle=True, random_state=7)\n",
    "grid_search = GridSearchCV(model, param_grid, cv=kfold, verbose=1)\n",
    "result = grid_search.fit(X, y)\n",
    "print(\"Best: %f using %s\" % (result.best_score_, result.best_params_))"
   ]
  },
  {
   "cell_type": "markdown",
   "metadata": {},
   "source": [
    "## Find optimum subsample and colsample_bytree"
   ]
  },
  {
   "cell_type": "code",
   "execution_count": 13,
   "metadata": {},
   "outputs": [
    {
     "name": "stdout",
     "output_type": "stream",
     "text": [
      "Fitting 10 folds for each of 16 candidates, totalling 160 fits\n"
     ]
    },
    {
     "name": "stderr",
     "output_type": "stream",
     "text": [
      "/usr/local/lib/python3.5/dist-packages/sklearn/model_selection/_split.py:581: Warning: The least populated class in y has only 1 members, which is too few. The minimum number of groups for any class cannot be less than n_splits=10.\n",
      "  % (min_groups, self.n_splits)), Warning)\n",
      "[Parallel(n_jobs=1)]: Done 160 out of 160 | elapsed:  3.2min finished\n"
     ]
    },
    {
     "name": "stdout",
     "output_type": "stream",
     "text": [
      "Best: 0.947059 using {'colsample_bytree': 0.9, 'subsample': 0.8}\n"
     ]
    }
   ],
   "source": [
    "ind_params = {\"max_depth\": 7, \"n_estimators\": 200, \"gamma\": 0, \"min_child_weight\": 1}\n",
    "\n",
    "\n",
    "# grid search\n",
    "model = xgb.XGBRegressor(**ind_params)\n",
    "subsample = [i/10.0 for i in range(6,10)]\n",
    "colsample_bytree = [i/10.0 for i in range(6,10)]\n",
    "\n",
    "param_grid = dict(subsample=subsample, colsample_bytree=colsample_bytree)\n",
    "kfold = StratifiedKFold(n_splits=10, shuffle=True, random_state=7)\n",
    "grid_search = GridSearchCV(model, param_grid, cv=kfold, verbose=1)\n",
    "result = grid_search.fit(X, y)\n",
    "print(\"Best: %f using %s\" % (result.best_score_, result.best_params_))"
   ]
  },
  {
   "cell_type": "markdown",
   "metadata": {},
   "source": [
    "## Fine tune reg_alpha"
   ]
  },
  {
   "cell_type": "code",
   "execution_count": 14,
   "metadata": {},
   "outputs": [
    {
     "name": "stdout",
     "output_type": "stream",
     "text": [
      "Fitting 10 folds for each of 5 candidates, totalling 50 fits\n"
     ]
    },
    {
     "name": "stderr",
     "output_type": "stream",
     "text": [
      "/usr/local/lib/python3.5/dist-packages/sklearn/model_selection/_split.py:581: Warning: The least populated class in y has only 1 members, which is too few. The minimum number of groups for any class cannot be less than n_splits=10.\n",
      "  % (min_groups, self.n_splits)), Warning)\n",
      "[Parallel(n_jobs=1)]: Done  50 out of  50 | elapsed:  1.1min finished\n"
     ]
    },
    {
     "name": "stdout",
     "output_type": "stream",
     "text": [
      "Best: 0.947346 using {'reg_alpha': 0.005}\n"
     ]
    }
   ],
   "source": [
    "ind_params = {\"max_depth\": 7, \"n_estimators\": 200, \"gamma\": 0, \"min_child_weight\": 1, 'colsample_bytree': 0.9, 'subsample': 0.8}\n",
    "\n",
    "reg_alpha = [0, 0.001, 0.005, 0.01, 0.05]\n",
    "\n",
    "# grid search\n",
    "model = xgb.XGBRegressor(**ind_params)\n",
    "\n",
    "param_grid = dict(reg_alpha=reg_alpha)\n",
    "kfold = StratifiedKFold(n_splits=10, shuffle=True, random_state=7)\n",
    "grid_search = GridSearchCV(model, param_grid, cv=kfold, verbose=1)\n",
    "result = grid_search.fit(X, y)\n",
    "print(\"Best: %f using %s\" % (result.best_score_, result.best_params_))"
   ]
  },
  {
   "cell_type": "markdown",
   "metadata": {},
   "source": [
    "## Lower learning rate"
   ]
  },
  {
   "cell_type": "code",
   "execution_count": 16,
   "metadata": {},
   "outputs": [
    {
     "name": "stdout",
     "output_type": "stream",
     "text": [
      "TRAIN: [    0     1     2 ..., 10883 10884 10885] TEST: [    4    15    16 ..., 10877 10878 10880]\n",
      "0.230089603985\n",
      "TRAIN: [    0     1     2 ..., 10881 10884 10885] TEST: [    6    10    11 ..., 10879 10882 10883]\n",
      "0.229837604975\n",
      "TRAIN: [    0     2     4 ..., 10882 10883 10885] TEST: [    1     3     5 ..., 10874 10881 10884]\n",
      "0.235128045669\n",
      "TRAIN: [    1     2     3 ..., 10883 10884 10885] TEST: [    0     8    18 ..., 10869 10873 10876]\n",
      "0.236164135992\n",
      "TRAIN: [    0     1     3 ..., 10882 10883 10884] TEST: [    2     7    12 ..., 10868 10875 10885]\n",
      "0.228958699831\n",
      "Mean absolute error:  0.265370877722\n"
     ]
    }
   ],
   "source": [
    "ind_params = {\"learning_rate\": 0.01, \"max_depth\": 7, \"n_estimators\": 5000, \"gamma\": 0, \"min_child_weight\": 1, 'colsample_bytree': 0.9, 'subsample': 0.8, 'reg_alpha': 0.005}\n",
    "\n",
    "for train_index, test_index in kf.split(X):\n",
    "    print(\"TRAIN:\", train_index, \"TEST:\", test_index)\n",
    "    X_train, X_test = X[train_index], X[test_index]\n",
    "    y_train, y_test = y[train_index], y[test_index]\n",
    "    \n",
    "\n",
    "    xgb_model = xgb.XGBRegressor(**ind_params).fit(X_train, y_train)\n",
    "    \n",
    "    predictions = xgb_model.predict(X_test)\n",
    "    print(mean_absolute_error(y_test, predictions))\n",
    "    errors.append(mean_absolute_error(y_test, predictions))\n",
    "    \n",
    "print(\"Mean absolute error: \" ,np.mean(errors))"
   ]
  },
  {
   "cell_type": "markdown",
   "metadata": {},
   "source": [
    "## Save predictions to a kaggle submission file"
   ]
  },
  {
   "cell_type": "code",
   "execution_count": 17,
   "metadata": {},
   "outputs": [
    {
     "name": "stdout",
     "output_type": "stream",
     "text": [
      "[ 2.84964871  1.4128989   1.02369332  0.85560167  0.37875053  1.75532472\n",
      "  3.59586835  4.59034061  5.50044584  4.93733311]\n"
     ]
    }
   ],
   "source": [
    "# Train xgboost model using the best parameters\n",
    "\n",
    "ind_params = {\"learning_rate\": 0.01, \"max_depth\": 7, \"n_estimators\": 5000, \"gamma\": 0, \"min_child_weight\": 1, 'colsample_bytree': 0.9, 'subsample': 0.8, 'reg_alpha': 0.005}\n",
    "xgb_model = xgb.XGBRegressor(**ind_params).fit(X,y)\n",
    "predictions = xgb_model.predict(test[\"X\"])\n",
    "print(predictions[:10])"
   ]
  },
  {
   "cell_type": "code",
   "execution_count": 22,
   "metadata": {},
   "outputs": [
    {
     "data": {
      "text/html": [
       "<div>\n",
       "<table border=\"1\" class=\"dataframe\">\n",
       "  <thead>\n",
       "    <tr style=\"text-align: right;\">\n",
       "      <th></th>\n",
       "      <th>datetime</th>\n",
       "      <th>season</th>\n",
       "      <th>holiday</th>\n",
       "      <th>workingday</th>\n",
       "      <th>weather</th>\n",
       "      <th>temp</th>\n",
       "      <th>atemp</th>\n",
       "      <th>humidity</th>\n",
       "      <th>windspeed</th>\n",
       "    </tr>\n",
       "  </thead>\n",
       "  <tbody>\n",
       "    <tr>\n",
       "      <th>0</th>\n",
       "      <td>2011-01-20 00:00:00</td>\n",
       "      <td>1</td>\n",
       "      <td>0</td>\n",
       "      <td>1</td>\n",
       "      <td>1</td>\n",
       "      <td>10.66</td>\n",
       "      <td>11.365</td>\n",
       "      <td>56</td>\n",
       "      <td>26.0027</td>\n",
       "    </tr>\n",
       "    <tr>\n",
       "      <th>1</th>\n",
       "      <td>2011-01-20 01:00:00</td>\n",
       "      <td>1</td>\n",
       "      <td>0</td>\n",
       "      <td>1</td>\n",
       "      <td>1</td>\n",
       "      <td>10.66</td>\n",
       "      <td>13.635</td>\n",
       "      <td>56</td>\n",
       "      <td>0.0000</td>\n",
       "    </tr>\n",
       "    <tr>\n",
       "      <th>2</th>\n",
       "      <td>2011-01-20 02:00:00</td>\n",
       "      <td>1</td>\n",
       "      <td>0</td>\n",
       "      <td>1</td>\n",
       "      <td>1</td>\n",
       "      <td>10.66</td>\n",
       "      <td>13.635</td>\n",
       "      <td>56</td>\n",
       "      <td>0.0000</td>\n",
       "    </tr>\n",
       "    <tr>\n",
       "      <th>3</th>\n",
       "      <td>2011-01-20 03:00:00</td>\n",
       "      <td>1</td>\n",
       "      <td>0</td>\n",
       "      <td>1</td>\n",
       "      <td>1</td>\n",
       "      <td>10.66</td>\n",
       "      <td>12.880</td>\n",
       "      <td>56</td>\n",
       "      <td>11.0014</td>\n",
       "    </tr>\n",
       "    <tr>\n",
       "      <th>4</th>\n",
       "      <td>2011-01-20 04:00:00</td>\n",
       "      <td>1</td>\n",
       "      <td>0</td>\n",
       "      <td>1</td>\n",
       "      <td>1</td>\n",
       "      <td>10.66</td>\n",
       "      <td>12.880</td>\n",
       "      <td>56</td>\n",
       "      <td>11.0014</td>\n",
       "    </tr>\n",
       "  </tbody>\n",
       "</table>\n",
       "</div>"
      ],
      "text/plain": [
       "              datetime  season  holiday  workingday  weather   temp   atemp  \\\n",
       "0  2011-01-20 00:00:00       1        0           1        1  10.66  11.365   \n",
       "1  2011-01-20 01:00:00       1        0           1        1  10.66  13.635   \n",
       "2  2011-01-20 02:00:00       1        0           1        1  10.66  13.635   \n",
       "3  2011-01-20 03:00:00       1        0           1        1  10.66  12.880   \n",
       "4  2011-01-20 04:00:00       1        0           1        1  10.66  12.880   \n",
       "\n",
       "   humidity  windspeed  \n",
       "0        56    26.0027  \n",
       "1        56     0.0000  \n",
       "2        56     0.0000  \n",
       "3        56    11.0014  \n",
       "4        56    11.0014  "
      ]
     },
     "execution_count": 22,
     "metadata": {},
     "output_type": "execute_result"
    }
   ],
   "source": [
    "df_test = pd.read_csv('/codilime/data/test.csv')\n",
    "df_test[:5]"
   ]
  },
  {
   "cell_type": "code",
   "execution_count": 23,
   "metadata": {
    "collapsed": true
   },
   "outputs": [],
   "source": [
    "submission_df = df_test[[\"datetime\"]].copy() # copy columns from test dataframe"
   ]
  },
  {
   "cell_type": "code",
   "execution_count": 24,
   "metadata": {},
   "outputs": [
    {
     "data": {
      "text/html": [
       "<div>\n",
       "<table border=\"1\" class=\"dataframe\">\n",
       "  <thead>\n",
       "    <tr style=\"text-align: right;\">\n",
       "      <th></th>\n",
       "      <th>datetime</th>\n",
       "      <th>count</th>\n",
       "    </tr>\n",
       "  </thead>\n",
       "  <tbody>\n",
       "    <tr>\n",
       "      <th>0</th>\n",
       "      <td>2011-01-20 00:00:00</td>\n",
       "      <td>17.281710</td>\n",
       "    </tr>\n",
       "    <tr>\n",
       "      <th>1</th>\n",
       "      <td>2011-01-20 01:00:00</td>\n",
       "      <td>4.107846</td>\n",
       "    </tr>\n",
       "    <tr>\n",
       "      <th>2</th>\n",
       "      <td>2011-01-20 02:00:00</td>\n",
       "      <td>2.783456</td>\n",
       "    </tr>\n",
       "    <tr>\n",
       "      <th>3</th>\n",
       "      <td>2011-01-20 03:00:00</td>\n",
       "      <td>2.352790</td>\n",
       "    </tr>\n",
       "    <tr>\n",
       "      <th>4</th>\n",
       "      <td>2011-01-20 04:00:00</td>\n",
       "      <td>1.460459</td>\n",
       "    </tr>\n",
       "    <tr>\n",
       "      <th>5</th>\n",
       "      <td>2011-01-20 05:00:00</td>\n",
       "      <td>5.785326</td>\n",
       "    </tr>\n",
       "    <tr>\n",
       "      <th>6</th>\n",
       "      <td>2011-01-20 06:00:00</td>\n",
       "      <td>36.447335</td>\n",
       "    </tr>\n",
       "    <tr>\n",
       "      <th>7</th>\n",
       "      <td>2011-01-20 07:00:00</td>\n",
       "      <td>98.527984</td>\n",
       "    </tr>\n",
       "    <tr>\n",
       "      <th>8</th>\n",
       "      <td>2011-01-20 08:00:00</td>\n",
       "      <td>244.801051</td>\n",
       "    </tr>\n",
       "    <tr>\n",
       "      <th>9</th>\n",
       "      <td>2011-01-20 09:00:00</td>\n",
       "      <td>139.397994</td>\n",
       "    </tr>\n",
       "  </tbody>\n",
       "</table>\n",
       "</div>"
      ],
      "text/plain": [
       "              datetime       count\n",
       "0  2011-01-20 00:00:00   17.281710\n",
       "1  2011-01-20 01:00:00    4.107846\n",
       "2  2011-01-20 02:00:00    2.783456\n",
       "3  2011-01-20 03:00:00    2.352790\n",
       "4  2011-01-20 04:00:00    1.460459\n",
       "5  2011-01-20 05:00:00    5.785326\n",
       "6  2011-01-20 06:00:00   36.447335\n",
       "7  2011-01-20 07:00:00   98.527984\n",
       "8  2011-01-20 08:00:00  244.801051\n",
       "9  2011-01-20 09:00:00  139.397994"
      ]
     },
     "execution_count": 24,
     "metadata": {},
     "output_type": "execute_result"
    }
   ],
   "source": [
    "# Convert log(count) to count required by submission format \n",
    "\n",
    "predictions_non_zero = []\n",
    "for value in predictions:\n",
    "    value = math.exp(value)\n",
    "    if value < 0:\n",
    "        predictions_non_zero.append(0)\n",
    "    else:\n",
    "        predictions_non_zero.append(value)\n",
    "\n",
    "submission_df[\"count\"] = np.array(predictions_non_zero)\n",
    "\n",
    "submission_df[:10]"
   ]
  },
  {
   "cell_type": "code",
   "execution_count": 25,
   "metadata": {
    "collapsed": true
   },
   "outputs": [],
   "source": [
    "filename = '/codilime/data/submission_4.0.0_{}.csv'.format(date.today())\n",
    "submission_df.to_csv(filename, index=False) # save results to a submission file"
   ]
  },
  {
   "cell_type": "markdown",
   "metadata": {},
   "source": [
    "Results: Kaggle score: 0.40737"
   ]
  },
  {
   "cell_type": "code",
   "execution_count": null,
   "metadata": {
    "collapsed": true
   },
   "outputs": [],
   "source": []
  }
 ],
 "metadata": {
  "kernelspec": {
   "display_name": "Python 3",
   "language": "python",
   "name": "python3"
  },
  "language_info": {
   "codemirror_mode": {
    "name": "ipython",
    "version": 3
   },
   "file_extension": ".py",
   "mimetype": "text/x-python",
   "name": "python",
   "nbconvert_exporter": "python",
   "pygments_lexer": "ipython3",
   "version": "3.5.2"
  }
 },
 "nbformat": 4,
 "nbformat_minor": 2
}
