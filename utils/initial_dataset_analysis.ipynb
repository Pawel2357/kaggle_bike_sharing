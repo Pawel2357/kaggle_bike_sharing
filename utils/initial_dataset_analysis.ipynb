{
 "cells": [
  {
   "cell_type": "code",
   "execution_count": 46,
   "metadata": {
    "scrolled": false
   },
   "outputs": [
    {
     "name": "stdout",
     "output_type": "stream",
     "text": [
      "[['datetime', 'season', 'holiday', 'workingday', 'weather', 'temp', 'atemp', 'humidity', 'windspeed'], ['2011-01-20 00:00:00', '1', '0', '1', '1', '10.66', '11.365', '56', '26.0027'], ['2011-01-20 01:00:00', '1', '0', '1', '1', '10.66', '13.635', '56', '0'], ['2011-01-20 02:00:00', '1', '0', '1', '1', '10.66', '13.635', '56', '0'], ['2011-01-20 03:00:00', '1', '0', '1', '1', '10.66', '12.88', '56', '11.0014'], ['2011-01-20 04:00:00', '1', '0', '1', '1', '10.66', '12.88', '56', '11.0014'], ['2011-01-20 05:00:00', '1', '0', '1', '1', '9.84', '11.365', '60', '15.0013'], ['2011-01-20 06:00:00', '1', '0', '1', '1', '9.02', '10.605', '60', '15.0013'], ['2011-01-20 07:00:00', '1', '0', '1', '1', '9.02', '10.605', '55', '15.0013'], ['2011-01-20 08:00:00', '1', '0', '1', '1', '9.02', '10.605', '55', '19.0012']]\n"
     ]
    }
   ],
   "source": [
    "from datetime import datetime\n",
    "import pickle\n",
    "\n",
    "\n",
    "with open('/codilime/data/train.csv') as train_file:\n",
    "    content = train_file.readlines()\n",
    "    content = [x.strip() for x in content]\n",
    "    train_data = []\n",
    "    for line in content:\n",
    "        mylist = line.split(',')\n",
    "        train_data.append(mylist)\n",
    "        \n",
    "with open('/codilime/data/test.csv') as train_file:\n",
    "    content = train_file.readlines()\n",
    "    content = [x.strip() for x in content]\n",
    "    test_data = []\n",
    "    for line in content:\n",
    "        mylist = line.split(',')\n",
    "        test_data.append(mylist)\n",
    "\n",
    "print(test_data[:10])"
   ]
  },
  {
   "cell_type": "markdown",
   "metadata": {
    "collapsed": true
   },
   "source": [
    "# Check hypothesis\n",
    "\n",
    "1. Less people use when rainy weather?"
   ]
  },
  {
   "cell_type": "code",
   "execution_count": 47,
   "metadata": {
    "collapsed": true
   },
   "outputs": [],
   "source": [
    "import xgboost as xgb"
   ]
  },
  {
   "cell_type": "markdown",
   "metadata": {},
   "source": [
    "# Initial data preprocessing\n",
    "\n",
    "Notes: Date is not important. Only hour is important."
   ]
  },
  {
   "cell_type": "code",
   "execution_count": 48,
   "metadata": {
    "collapsed": true
   },
   "outputs": [],
   "source": [
    "def format_date_to_hour(dataset):\n",
    "    dataset_processed = []\n",
    "    for row in dataset[1:]:\n",
    "        processed_row = []\n",
    "        row_date_hour = datetime.strptime(row[0], '%Y-%m-%d %H:%M:%S').hour\n",
    "        row_date_minute = datetime.strptime(row[0], '%Y-%m-%d %H:%M:%S').minute\n",
    "        row_date_year = datetime.strptime(row[0], '%Y-%m-%d %H:%M:%S').year\n",
    "        processed_row.append(row_date_hour)\n",
    "        processed_row.append(row_date_minute)\n",
    "        processed_row.append(row_date_year)\n",
    "        \n",
    "        for element in row[1:]:\n",
    "            processed_row.append(float(element))\n",
    "            \n",
    "        dataset_processed.append(processed_row)\n",
    "    \n",
    "    return dataset_processed\n",
    "            \n",
    "    \n",
    "train_data_processed = format_date_to_hour(train_data)\n",
    "test_data_processed = format_date_to_hour(test_data)"
   ]
  },
  {
   "cell_type": "code",
   "execution_count": 49,
   "metadata": {
    "scrolled": true
   },
   "outputs": [
    {
     "data": {
      "text/plain": [
       "[[0, 0, 2011, 1.0, 0.0, 1.0, 1.0, 10.66, 11.365, 56.0, 26.0027],\n",
       " [1, 0, 2011, 1.0, 0.0, 1.0, 1.0, 10.66, 13.635, 56.0, 0.0],\n",
       " [2, 0, 2011, 1.0, 0.0, 1.0, 1.0, 10.66, 13.635, 56.0, 0.0],\n",
       " [3, 0, 2011, 1.0, 0.0, 1.0, 1.0, 10.66, 12.88, 56.0, 11.0014],\n",
       " [4, 0, 2011, 1.0, 0.0, 1.0, 1.0, 10.66, 12.88, 56.0, 11.0014],\n",
       " [5, 0, 2011, 1.0, 0.0, 1.0, 1.0, 9.84, 11.365, 60.0, 15.0013],\n",
       " [6, 0, 2011, 1.0, 0.0, 1.0, 1.0, 9.02, 10.605, 60.0, 15.0013],\n",
       " [7, 0, 2011, 1.0, 0.0, 1.0, 1.0, 9.02, 10.605, 55.0, 15.0013],\n",
       " [8, 0, 2011, 1.0, 0.0, 1.0, 1.0, 9.02, 10.605, 55.0, 19.0012],\n",
       " [9, 0, 2011, 1.0, 0.0, 1.0, 2.0, 9.84, 11.365, 52.0, 15.0013],\n",
       " [10, 0, 2011, 1.0, 0.0, 1.0, 1.0, 10.66, 11.365, 48.0, 19.9995],\n",
       " [11, 0, 2011, 1.0, 0.0, 1.0, 2.0, 11.48, 13.635, 45.0, 11.0014]]"
      ]
     },
     "execution_count": 49,
     "metadata": {},
     "output_type": "execute_result"
    }
   ],
   "source": [
    "test_data_processed[:12]"
   ]
  },
  {
   "cell_type": "code",
   "execution_count": 50,
   "metadata": {
    "collapsed": true
   },
   "outputs": [],
   "source": [
    "train_X = []\n",
    "train_y = []\n",
    "\n",
    "for row in train_data_processed:\n",
    "    train_X.append(row[:11])\n",
    "    train_y.append(row[-1])\n",
    "\n",
    "train_final = {\"X\": train_X, \"y\":train_y}\n",
    "\n",
    "test_X = []\n",
    "test_y = []\n",
    "\n",
    "for row in test_data_processed:\n",
    "    test_X.append(row[:11])\n",
    "\n",
    "test_final = {\"X\": test_X}\n",
    "\n",
    "\n",
    "pickle.dump(train_final, open(\"/codilime/data/train_processed_2.0.0_05062017.p\", \"wb\"))\n",
    "pickle.dump(test_final, open(\"/codilime/data/test_processed_2.0.0_05062017.p\", \"wb\"))"
   ]
  },
  {
   "cell_type": "code",
   "execution_count": 51,
   "metadata": {
    "scrolled": true
   },
   "outputs": [
    {
     "data": {
      "text/plain": [
       "['datetime',\n",
       " 'season',\n",
       " 'holiday',\n",
       " 'workingday',\n",
       " 'weather',\n",
       " 'temp',\n",
       " 'atemp',\n",
       " 'humidity',\n",
       " 'windspeed']"
      ]
     },
     "execution_count": 51,
     "metadata": {},
     "output_type": "execute_result"
    }
   ],
   "source": [
    "test_data[0]"
   ]
  },
  {
   "cell_type": "code",
   "execution_count": 52,
   "metadata": {},
   "outputs": [
    {
     "data": {
      "text/plain": [
       "['datetime',\n",
       " 'season',\n",
       " 'holiday',\n",
       " 'workingday',\n",
       " 'weather',\n",
       " 'temp',\n",
       " 'atemp',\n",
       " 'humidity',\n",
       " 'windspeed',\n",
       " 'casual',\n",
       " 'registered',\n",
       " 'count']"
      ]
     },
     "execution_count": 52,
     "metadata": {},
     "output_type": "execute_result"
    }
   ],
   "source": [
    "train_data[0]"
   ]
  },
  {
   "cell_type": "code",
   "execution_count": null,
   "metadata": {
    "collapsed": true
   },
   "outputs": [],
   "source": []
  }
 ],
 "metadata": {
  "kernelspec": {
   "display_name": "Python 3",
   "language": "python",
   "name": "python3"
  },
  "language_info": {
   "codemirror_mode": {
    "name": "ipython",
    "version": 3
   },
   "file_extension": ".py",
   "mimetype": "text/x-python",
   "name": "python",
   "nbconvert_exporter": "python",
   "pygments_lexer": "ipython3",
   "version": "3.5.2"
  }
 },
 "nbformat": 4,
 "nbformat_minor": 2
}
