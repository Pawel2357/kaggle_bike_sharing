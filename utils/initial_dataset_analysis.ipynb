{
 "cells": [
  {
   "cell_type": "code",
   "execution_count": 19,
   "metadata": {
    "scrolled": false
   },
   "outputs": [
    {
     "name": "stdout",
     "output_type": "stream",
     "text": [
      "[['datetime', 'season', 'holiday', 'workingday', 'weather', 'temp', 'atemp', 'humidity', 'windspeed'], ['2011-01-20 00:00:00', '1', '0', '1', '1', '10.66', '11.365', '56', '26.0027'], ['2011-01-20 01:00:00', '1', '0', '1', '1', '10.66', '13.635', '56', '0'], ['2011-01-20 02:00:00', '1', '0', '1', '1', '10.66', '13.635', '56', '0'], ['2011-01-20 03:00:00', '1', '0', '1', '1', '10.66', '12.88', '56', '11.0014'], ['2011-01-20 04:00:00', '1', '0', '1', '1', '10.66', '12.88', '56', '11.0014'], ['2011-01-20 05:00:00', '1', '0', '1', '1', '9.84', '11.365', '60', '15.0013'], ['2011-01-20 06:00:00', '1', '0', '1', '1', '9.02', '10.605', '60', '15.0013'], ['2011-01-20 07:00:00', '1', '0', '1', '1', '9.02', '10.605', '55', '15.0013'], ['2011-01-20 08:00:00', '1', '0', '1', '1', '9.02', '10.605', '55', '19.0012']]\n"
     ]
    }
   ],
   "source": [
    "from datetime import datetime\n",
    "import pickle\n",
    "\n",
    "\n",
    "with open('/codilime/data/train.csv') as train_file:\n",
    "    content = train_file.readlines()\n",
    "    content = [x.strip() for x in content]\n",
    "    train_data = []\n",
    "    for line in content:\n",
    "        mylist = line.split(',')\n",
    "        train_data.append(mylist)\n",
    "        \n",
    "with open('/codilime/data/test.csv') as train_file:\n",
    "    content = train_file.readlines()\n",
    "    content = [x.strip() for x in content]\n",
    "    test_data = []\n",
    "    for line in content:\n",
    "        mylist = line.split(',')\n",
    "        test_data.append(mylist)\n",
    "\n",
    "print(test_data[:10])"
   ]
  },
  {
   "cell_type": "markdown",
   "metadata": {
    "collapsed": true
   },
   "source": [
    "# Check hypothesis\n",
    "\n",
    "1. Less people use when rainy weather?"
   ]
  },
  {
   "cell_type": "code",
   "execution_count": 20,
   "metadata": {},
   "outputs": [],
   "source": [
    "import xgboost as xgb"
   ]
  },
  {
   "cell_type": "markdown",
   "metadata": {},
   "source": [
    "# Initial data preprocessing\n",
    "\n",
    "Notes: Date is not important. Only hour is important."
   ]
  },
  {
   "cell_type": "code",
   "execution_count": 21,
   "metadata": {
    "collapsed": true
   },
   "outputs": [],
   "source": [
    "def format_date_to_hour(dataset):\n",
    "    dataset_processed = []\n",
    "    for row in dataset[1:]:\n",
    "        processed_row = []\n",
    "        row_date_hour = datetime.strptime(row[0], '%Y-%m-%d %H:%M:%S').hour\n",
    "        processed_row.append(row_date_hour)\n",
    "        \n",
    "        for element in row[1:]:\n",
    "            processed_row.append(float(element))\n",
    "            \n",
    "        dataset_processed.append(processed_row)\n",
    "    \n",
    "    return dataset_processed\n",
    "            \n",
    "    \n",
    "train_data_processed = format_date_to_hour(train_data)\n",
    "test_data_processed = format_date_to_hour(test_data)"
   ]
  },
  {
   "cell_type": "code",
   "execution_count": 22,
   "metadata": {
    "scrolled": true
   },
   "outputs": [
    {
     "data": {
      "text/plain": [
       "[[0, 1.0, 0.0, 1.0, 1.0, 10.66, 11.365, 56.0, 26.0027],\n",
       " [1, 1.0, 0.0, 1.0, 1.0, 10.66, 13.635, 56.0, 0.0],\n",
       " [2, 1.0, 0.0, 1.0, 1.0, 10.66, 13.635, 56.0, 0.0],\n",
       " [3, 1.0, 0.0, 1.0, 1.0, 10.66, 12.88, 56.0, 11.0014],\n",
       " [4, 1.0, 0.0, 1.0, 1.0, 10.66, 12.88, 56.0, 11.0014],\n",
       " [5, 1.0, 0.0, 1.0, 1.0, 9.84, 11.365, 60.0, 15.0013],\n",
       " [6, 1.0, 0.0, 1.0, 1.0, 9.02, 10.605, 60.0, 15.0013],\n",
       " [7, 1.0, 0.0, 1.0, 1.0, 9.02, 10.605, 55.0, 15.0013],\n",
       " [8, 1.0, 0.0, 1.0, 1.0, 9.02, 10.605, 55.0, 19.0012],\n",
       " [9, 1.0, 0.0, 1.0, 2.0, 9.84, 11.365, 52.0, 15.0013]]"
      ]
     },
     "execution_count": 22,
     "metadata": {},
     "output_type": "execute_result"
    }
   ],
   "source": [
    "test_data_processed[:10]"
   ]
  },
  {
   "cell_type": "code",
   "execution_count": 24,
   "metadata": {
    "collapsed": true
   },
   "outputs": [],
   "source": [
    "pickle.dump(test_data_processed, open(\"/codilime/data/test_processed.p\", \"wb\"))\n",
    "pickle.dump(train_data_processed, open(\"/codilime/data/train_processed.p\", \"wb\"))"
   ]
  },
  {
   "cell_type": "code",
   "execution_count": null,
   "metadata": {
    "collapsed": true
   },
   "outputs": [],
   "source": []
  }
 ],
 "metadata": {
  "kernelspec": {
   "display_name": "Python 3",
   "language": "python",
   "name": "python3"
  },
  "language_info": {
   "codemirror_mode": {
    "name": "ipython",
    "version": 3
   },
   "file_extension": ".py",
   "mimetype": "text/x-python",
   "name": "python",
   "nbconvert_exporter": "python",
   "pygments_lexer": "ipython3",
   "version": "3.5.2"
  }
 },
 "nbformat": 4,
 "nbformat_minor": 2
}
